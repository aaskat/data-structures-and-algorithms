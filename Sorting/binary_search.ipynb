{
 "cells": [
  {
   "cell_type": "markdown",
   "metadata": {},
   "source": [
    "# Binary Search"
   ]
  },
  {
   "cell_type": "markdown",
   "metadata": {},
   "source": [
    "* [wikipedia](https://en.wikipedia.org/wiki/Binary_search_algorithm)\n",
    "* [youtube](https://youtu.be/fVXU5XiQwxw)"
   ]
  },
  {
   "cell_type": "code",
   "execution_count": 1,
   "metadata": {
    "collapsed": true
   },
   "outputs": [],
   "source": [
    "def binary_search(arr, el):\n",
    "    first = 0\n",
    "    last = len(arr) - 1\n",
    "    found = False\n",
    "    \n",
    "    while first <= last and not found:\n",
    "        mid = (first + last) // 2\n",
    "        \n",
    "        if arr[mid] == el:\n",
    "            found = True\n",
    "        else:\n",
    "            if el < arr[mid]:\n",
    "                last = mid - 1\n",
    "            else:\n",
    "                first = mid + 1\n",
    "    return found"
   ]
  },
  {
   "cell_type": "code",
   "execution_count": 7,
   "metadata": {
    "collapsed": false
   },
   "outputs": [
    {
     "name": "stdout",
     "output_type": "stream",
     "text": [
      "[1, 3, 7, 8, 9, 12, 88]\n"
     ]
    },
    {
     "data": {
      "text/plain": [
       "True"
      ]
     },
     "execution_count": 7,
     "metadata": {},
     "output_type": "execute_result"
    }
   ],
   "source": [
    "arr = sorted([1, 12, 3, 9, 8, 88, 7]) # the list have to be already sorted\n",
    "print(arr)\n",
    "binary_search(arr, 7)"
   ]
  },
  {
   "cell_type": "markdown",
   "metadata": {},
   "source": [
    "# Recurcive version of binary search"
   ]
  },
  {
   "cell_type": "code",
   "execution_count": 8,
   "metadata": {
    "collapsed": true
   },
   "outputs": [],
   "source": [
    "def rec_binary_search(arr, el):\n",
    "    if len(arr) == 0:\n",
    "        return False\n",
    "    else:\n",
    "        mid = len(arr) // 2\n",
    "        \n",
    "        if arr[mid] == el:\n",
    "            return True\n",
    "        else:\n",
    "            if el < arr[mid]:\n",
    "                return rec_binary_search(arr[:mid], el)\n",
    "            else:\n",
    "                return rec_binary_search(arr[mid+1:], el)"
   ]
  },
  {
   "cell_type": "code",
   "execution_count": 10,
   "metadata": {
    "collapsed": false
   },
   "outputs": [
    {
     "name": "stdout",
     "output_type": "stream",
     "text": [
      "[1, 3, 7, 8, 9, 12, 88]\n"
     ]
    },
    {
     "data": {
      "text/plain": [
       "False"
      ]
     },
     "execution_count": 10,
     "metadata": {},
     "output_type": "execute_result"
    }
   ],
   "source": [
    "arr = sorted([1, 12, 3, 9, 8, 88, 7]) # the list have to be already sorted\n",
    "print(arr)\n",
    "rec_binary_search(arr, 77)"
   ]
  }
 ],
 "metadata": {
  "kernelspec": {
   "display_name": "Python 3",
   "language": "python",
   "name": "python3"
  },
  "language_info": {
   "codemirror_mode": {
    "name": "ipython",
    "version": 3
   },
   "file_extension": ".py",
   "mimetype": "text/x-python",
   "name": "python",
   "nbconvert_exporter": "python",
   "pygments_lexer": "ipython3",
   "version": "3.5.2"
  }
 },
 "nbformat": 4,
 "nbformat_minor": 0
}
