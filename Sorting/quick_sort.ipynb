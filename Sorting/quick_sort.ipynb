{
 "cells": [
  {
   "cell_type": "code",
   "execution_count": 1,
   "metadata": {
    "collapsed": true
   },
   "outputs": [],
   "source": [
    "def quick_sort(arr):\n",
    "    n = len(arr)\n",
    "    if n < 2:\n",
    "        return\n",
    "    pivot = arr[0]\n",
    "    less, equal, greater = [], [], []\n",
    "    \n",
    "    while arr:\n",
    "        if arr[0] < pivot:\n",
    "            less.append(arr.pop(0))\n",
    "        elif pivot < arr[0]:\n",
    "            greater.append(arr.pop(0))\n",
    "        else:\n",
    "            equal.append(arr.pop(0))\n",
    "            \n",
    "    # conquer (with recurtion)\n",
    "    quick_sort(less)\n",
    "    quick_sort(greater)\n",
    "    # concatenate results\n",
    "    \n",
    "    while less:\n",
    "        arr.append(less.pop(0))\n",
    "        \n",
    "    while equal:\n",
    "        arr.append(equal.pop(0))\n",
    "        \n",
    "    while greater:\n",
    "        arr.append(greater.pop(0))"
   ]
  },
  {
   "cell_type": "code",
   "execution_count": 3,
   "metadata": {
    "collapsed": false
   },
   "outputs": [
    {
     "data": {
      "text/plain": [
       "[1, 2, 2, 3, 3, 5, 6, 10, 15, 30, 55, 88]"
      ]
     },
     "execution_count": 3,
     "metadata": {},
     "output_type": "execute_result"
    }
   ],
   "source": [
    "arr = [10, 2, 30, 5, 6, 55, 3, 1, 2, 15, 88, 3]\n",
    "quick_sort(arr)\n",
    "arr"
   ]
  }
 ],
 "metadata": {
  "kernelspec": {
   "display_name": "Python 3",
   "language": "python",
   "name": "python3"
  },
  "language_info": {
   "codemirror_mode": {
    "name": "ipython",
    "version": 3
   },
   "file_extension": ".py",
   "mimetype": "text/x-python",
   "name": "python",
   "nbconvert_exporter": "python",
   "pygments_lexer": "ipython3",
   "version": "3.5.2"
  }
 },
 "nbformat": 4,
 "nbformat_minor": 0
}
